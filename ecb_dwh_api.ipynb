{
  "nbformat": 4,
  "nbformat_minor": 0,
  "metadata": {
    "colab": {
      "provenance": []
    },
    "kernelspec": {
      "name": "python3",
      "display_name": "Python 3"
    },
    "language_info": {
      "name": "python"
    }
  },
  "cells": [
    {
      "cell_type": "markdown",
      "source": [
        "### Accessing the European Central Bank DWH risk data with Python\n",
        "\n",
        "The European Central Bank (ECB) and the European Banking Authority (EBA) have made a large amount of credit risk information available. Although much of this information is not yet in a machine-readable format, this option is becoming increasingly popular. \n",
        "\n",
        "See also:\n",
        "- [Introduction to the ECB DWH](https://sdw-wsrest.ecb.europa.eu/help/)\n",
        "- [Available data series](https://sdw.ecb.europa.eu/browseSelection.do?node=9698058)\n"
      ],
      "metadata": {
        "id": "8FRhrcJCE5Qx"
      }
    },
    {
      "cell_type": "code",
      "source": [
        "import requests\n",
        "import pandas as pd\n",
        "import io\n",
        "import matplotlib.pyplot as plt\n",
        "import numpy as np"
      ],
      "metadata": {
        "id": "PKjTCdU9EwBX"
      },
      "execution_count": 61,
      "outputs": []
    },
    {
      "cell_type": "markdown",
      "source": [
        "### A. Helper functions"
      ],
      "metadata": {
        "id": "QOW1tnXTl0hW"
      }
    },
    {
      "cell_type": "code",
      "source": [
        "def sup_ecb_data(countries, data_items, report_type='estimates'):\n",
        "  # Query the ECB DWH for risk data\n",
        "\n",
        "  country_list = \"+\".join(countries)\n",
        "  item_list = \"+\".join(data_items)\n",
        "\n",
        "  entrypoint = 'https://sdw-wsrest.ecb.europa.eu/service/'\n",
        "  resource = 'data'\n",
        "  flowRef ='SUP'\n",
        "\n",
        "  if report_type == 'estimates':\n",
        "    key = f'Q.B01.{country_list}._Z.{item_list}._T._Z._Z._Z._Z.PCT.C'\n",
        "  elif report_type == 'risk_weights':\n",
        "    key = f'Q.{country_list}.W0._Z.{item_list}._T._Z._Z._Z._Z.PCT.C'\n",
        "\n",
        "  # Define the parameters\n",
        "  params = {\n",
        "      'startPeriod': '2000-01-01',  # Start date of the time series\n",
        "      'endPeriod': '2022-10-01'     # End of the time series\n",
        "  }\n",
        "\n",
        "  # Create the query\n",
        "  request_url = entrypoint + resource + '/'+ flowRef + '/' + key\n",
        "\n",
        "  # Make the HTTP request\n",
        "  return requests.get(request_url, params=params, headers={'Accept': 'text/csv'})\n",
        "\n",
        "\n",
        "def createPlots(df, group_label, first_dim, second_dim, title):\n",
        "  # create the scatter plot and add group names next to the datapoints\n",
        "  for group, name in df.groupby(group_label):\n",
        "      plt.scatter(name[first_dim], name[second_dim], label=group)\n",
        "\n",
        "  for i, txt in enumerate(df[group_label]):\n",
        "      plt.annotate(txt, \n",
        "                  (df[first_dim][i], \n",
        "                  df[second_dim][i]), \n",
        "                  xytext=(10,0), \n",
        "                  textcoords='offset points')\n",
        "\n",
        "  # Add info and show the plot\n",
        "  plt.xlabel(f'{first_dim} (%)')\n",
        "  plt.ylabel(f'{second_dim} (%)')\n",
        "  plt.title(f'{title}', y =1.1)\n",
        "\n",
        "  plt.gca().spines['top'].set_visible(False)\n",
        "  plt.gca().spines['right'].set_visible(False)\n",
        "\n",
        "  # # Add reference\n",
        "  # ref_line = \"Source: ECB DWH, 2023\"\n",
        "  # plt.text(0, 0, ref_line, fontsize=10, ha=\"left\")\n",
        "\n",
        "  return plt"
      ],
      "metadata": {
        "id": "u_5t39B0Ev-b"
      },
      "execution_count": 62,
      "outputs": []
    },
    {
      "cell_type": "markdown",
      "source": [
        "### B. View available time series"
      ],
      "metadata": {
        "id": "I1Q6ZLRdtfsd"
      }
    },
    {
      "cell_type": "code",
      "source": [
        "data_catalogue = pd.read_csv('ecb_dwh_data_catalogue.csv', sep='\\t', encoding='utf-8')"
      ],
      "metadata": {
        "id": "_Xi0rZDTtgzW"
      },
      "execution_count": 63,
      "outputs": []
    },
    {
      "cell_type": "markdown",
      "source": [
        "### C. Get PD, LGD and RWA data"
      ],
      "metadata": {
        "id": "B4FHNmqxltSb"
      }
    },
    {
      "cell_type": "code",
      "source": [
        "# Get PD and LGD data\n",
        "countries = ['ES', 'DE', 'FR', 'IT', 'EE', 'SE', \n",
        "             'IT', 'NL', 'CH', 'FI', 'BE']\n",
        "data_items = ['EPD05', 'EL005']\n",
        "\n",
        "# Request\n",
        "response = sup_ecb_data(countries, data_items, report_type='estimates')\n",
        "\n",
        "# Read the response as a file into a Pandas DataFrame\n",
        "est_data = pd.read_csv(io.StringIO(response.text))\n",
        "\n",
        "est_data = est_data[['TIME_PERIOD', 'TITLE', 'TITLE_COMPL', 'COUNT_AREA', 'OBS_VALUE']]\n",
        "est_data.columns = ['SnapshotDate', 'Item', 'Description', 'Area', 'Value']\n",
        "\n",
        "# Filter dataframe by date and create the dataset for plotting\n",
        "given_date = '2022-Q3'\n",
        "est_data = est_data[est_data['SnapshotDate'] == given_date]"
      ],
      "metadata": {
        "id": "9yJI2vbdVGGW"
      },
      "execution_count": 64,
      "outputs": []
    },
    {
      "cell_type": "code",
      "source": [
        "# Get RWA data\n",
        "countries = ['ES', 'DE', 'FR', 'IT', 'EE', 'SE', \n",
        "             'IT', 'NL', 'CH', 'FI', 'BE']\n",
        "data_items = ['EW24R']\n",
        "\n",
        "# Request\n",
        "response = sup_ecb_data(countries, data_items, report_type='risk_weights')\n",
        "\n",
        "# Read the response as a file into a Pandas DataFrame\n",
        "rwa_data = pd.read_csv(io.StringIO(response.text))\n",
        "\n",
        "rwa_data = rwa_data[['TIME_PERIOD', 'TITLE', 'TITLE_COMPL', 'REF_AREA', 'OBS_VALUE']]\n",
        "rwa_data.columns = ['SnapshotDate', 'Item', 'Description', 'Area', 'Value']"
      ],
      "metadata": {
        "id": "kvGw0o3vEv7n"
      },
      "execution_count": 65,
      "outputs": []
    },
    {
      "cell_type": "code",
      "source": [
        "# Join datasets\n",
        "full_ds = pd.concat([est_data, rwa_data])\n",
        "\n",
        "# Filter dataframe by date and create the dataset for plotting\n",
        "snapshot_date = '2022-Q3'\n",
        "full_dataset = full_ds[full_ds['SnapshotDate'] == snapshot_date]\n",
        "\n",
        "# Prepare data for plotting\n",
        "summary = full_ds.groupby(['Area', 'Item']).agg({'Value': ['max']}).unstack().reset_index()\n",
        "summary.columns = ['Area', 'LGD', 'PD', 'RWA']\n",
        "\n",
        "# Enrich data\n",
        "summary['EL'] = summary['PD'] * summary['LGD']\n",
        "\n",
        "summary"
      ],
      "metadata": {
        "colab": {
          "base_uri": "https://localhost:8080/",
          "height": 331
        },
        "id": "ED2tTfMZo3tj",
        "outputId": "4d51b286-2f63-4d8a-ac44-8ba2deb221db"
      },
      "execution_count": 66,
      "outputs": [
        {
          "output_type": "execute_result",
          "data": {
            "text/plain": [
              "  Area    LGD    PD    RWA       EL\n",
              "0   BE  14.22  0.68  12.78   9.6696\n",
              "1   CH  20.80  0.69    NaN  14.3520\n",
              "2   DE  18.79  0.66  16.78  12.4014\n",
              "3   EE    NaN   NaN    NaN      NaN\n",
              "4   ES  21.48  1.12  17.79  24.0576\n",
              "5   FI  16.07  0.74   7.98  11.8918\n",
              "6   FR  13.18  0.80  15.46  10.5440\n",
              "7   IT  20.70  1.23  19.19  25.4610\n",
              "8   NL  13.66  0.58  14.77   7.9228"
            ],
            "text/html": [
              "\n",
              "  <div id=\"df-5d72e63b-6c2e-45c2-b1a9-e7461eb61322\">\n",
              "    <div class=\"colab-df-container\">\n",
              "      <div>\n",
              "<style scoped>\n",
              "    .dataframe tbody tr th:only-of-type {\n",
              "        vertical-align: middle;\n",
              "    }\n",
              "\n",
              "    .dataframe tbody tr th {\n",
              "        vertical-align: top;\n",
              "    }\n",
              "\n",
              "    .dataframe thead th {\n",
              "        text-align: right;\n",
              "    }\n",
              "</style>\n",
              "<table border=\"1\" class=\"dataframe\">\n",
              "  <thead>\n",
              "    <tr style=\"text-align: right;\">\n",
              "      <th></th>\n",
              "      <th>Area</th>\n",
              "      <th>LGD</th>\n",
              "      <th>PD</th>\n",
              "      <th>RWA</th>\n",
              "      <th>EL</th>\n",
              "    </tr>\n",
              "  </thead>\n",
              "  <tbody>\n",
              "    <tr>\n",
              "      <th>0</th>\n",
              "      <td>BE</td>\n",
              "      <td>14.22</td>\n",
              "      <td>0.68</td>\n",
              "      <td>12.78</td>\n",
              "      <td>9.6696</td>\n",
              "    </tr>\n",
              "    <tr>\n",
              "      <th>1</th>\n",
              "      <td>CH</td>\n",
              "      <td>20.80</td>\n",
              "      <td>0.69</td>\n",
              "      <td>NaN</td>\n",
              "      <td>14.3520</td>\n",
              "    </tr>\n",
              "    <tr>\n",
              "      <th>2</th>\n",
              "      <td>DE</td>\n",
              "      <td>18.79</td>\n",
              "      <td>0.66</td>\n",
              "      <td>16.78</td>\n",
              "      <td>12.4014</td>\n",
              "    </tr>\n",
              "    <tr>\n",
              "      <th>3</th>\n",
              "      <td>EE</td>\n",
              "      <td>NaN</td>\n",
              "      <td>NaN</td>\n",
              "      <td>NaN</td>\n",
              "      <td>NaN</td>\n",
              "    </tr>\n",
              "    <tr>\n",
              "      <th>4</th>\n",
              "      <td>ES</td>\n",
              "      <td>21.48</td>\n",
              "      <td>1.12</td>\n",
              "      <td>17.79</td>\n",
              "      <td>24.0576</td>\n",
              "    </tr>\n",
              "    <tr>\n",
              "      <th>5</th>\n",
              "      <td>FI</td>\n",
              "      <td>16.07</td>\n",
              "      <td>0.74</td>\n",
              "      <td>7.98</td>\n",
              "      <td>11.8918</td>\n",
              "    </tr>\n",
              "    <tr>\n",
              "      <th>6</th>\n",
              "      <td>FR</td>\n",
              "      <td>13.18</td>\n",
              "      <td>0.80</td>\n",
              "      <td>15.46</td>\n",
              "      <td>10.5440</td>\n",
              "    </tr>\n",
              "    <tr>\n",
              "      <th>7</th>\n",
              "      <td>IT</td>\n",
              "      <td>20.70</td>\n",
              "      <td>1.23</td>\n",
              "      <td>19.19</td>\n",
              "      <td>25.4610</td>\n",
              "    </tr>\n",
              "    <tr>\n",
              "      <th>8</th>\n",
              "      <td>NL</td>\n",
              "      <td>13.66</td>\n",
              "      <td>0.58</td>\n",
              "      <td>14.77</td>\n",
              "      <td>7.9228</td>\n",
              "    </tr>\n",
              "  </tbody>\n",
              "</table>\n",
              "</div>\n",
              "      <button class=\"colab-df-convert\" onclick=\"convertToInteractive('df-5d72e63b-6c2e-45c2-b1a9-e7461eb61322')\"\n",
              "              title=\"Convert this dataframe to an interactive table.\"\n",
              "              style=\"display:none;\">\n",
              "        \n",
              "  <svg xmlns=\"http://www.w3.org/2000/svg\" height=\"24px\"viewBox=\"0 0 24 24\"\n",
              "       width=\"24px\">\n",
              "    <path d=\"M0 0h24v24H0V0z\" fill=\"none\"/>\n",
              "    <path d=\"M18.56 5.44l.94 2.06.94-2.06 2.06-.94-2.06-.94-.94-2.06-.94 2.06-2.06.94zm-11 1L8.5 8.5l.94-2.06 2.06-.94-2.06-.94L8.5 2.5l-.94 2.06-2.06.94zm10 10l.94 2.06.94-2.06 2.06-.94-2.06-.94-.94-2.06-.94 2.06-2.06.94z\"/><path d=\"M17.41 7.96l-1.37-1.37c-.4-.4-.92-.59-1.43-.59-.52 0-1.04.2-1.43.59L10.3 9.45l-7.72 7.72c-.78.78-.78 2.05 0 2.83L4 21.41c.39.39.9.59 1.41.59.51 0 1.02-.2 1.41-.59l7.78-7.78 2.81-2.81c.8-.78.8-2.07 0-2.86zM5.41 20L4 18.59l7.72-7.72 1.47 1.35L5.41 20z\"/>\n",
              "  </svg>\n",
              "      </button>\n",
              "      \n",
              "  <style>\n",
              "    .colab-df-container {\n",
              "      display:flex;\n",
              "      flex-wrap:wrap;\n",
              "      gap: 12px;\n",
              "    }\n",
              "\n",
              "    .colab-df-convert {\n",
              "      background-color: #E8F0FE;\n",
              "      border: none;\n",
              "      border-radius: 50%;\n",
              "      cursor: pointer;\n",
              "      display: none;\n",
              "      fill: #1967D2;\n",
              "      height: 32px;\n",
              "      padding: 0 0 0 0;\n",
              "      width: 32px;\n",
              "    }\n",
              "\n",
              "    .colab-df-convert:hover {\n",
              "      background-color: #E2EBFA;\n",
              "      box-shadow: 0px 1px 2px rgba(60, 64, 67, 0.3), 0px 1px 3px 1px rgba(60, 64, 67, 0.15);\n",
              "      fill: #174EA6;\n",
              "    }\n",
              "\n",
              "    [theme=dark] .colab-df-convert {\n",
              "      background-color: #3B4455;\n",
              "      fill: #D2E3FC;\n",
              "    }\n",
              "\n",
              "    [theme=dark] .colab-df-convert:hover {\n",
              "      background-color: #434B5C;\n",
              "      box-shadow: 0px 1px 3px 1px rgba(0, 0, 0, 0.15);\n",
              "      filter: drop-shadow(0px 1px 2px rgba(0, 0, 0, 0.3));\n",
              "      fill: #FFFFFF;\n",
              "    }\n",
              "  </style>\n",
              "\n",
              "      <script>\n",
              "        const buttonEl =\n",
              "          document.querySelector('#df-5d72e63b-6c2e-45c2-b1a9-e7461eb61322 button.colab-df-convert');\n",
              "        buttonEl.style.display =\n",
              "          google.colab.kernel.accessAllowed ? 'block' : 'none';\n",
              "\n",
              "        async function convertToInteractive(key) {\n",
              "          const element = document.querySelector('#df-5d72e63b-6c2e-45c2-b1a9-e7461eb61322');\n",
              "          const dataTable =\n",
              "            await google.colab.kernel.invokeFunction('convertToInteractive',\n",
              "                                                     [key], {});\n",
              "          if (!dataTable) return;\n",
              "\n",
              "          const docLinkHtml = 'Like what you see? Visit the ' +\n",
              "            '<a target=\"_blank\" href=https://colab.research.google.com/notebooks/data_table.ipynb>data table notebook</a>'\n",
              "            + ' to learn more about interactive tables.';\n",
              "          element.innerHTML = '';\n",
              "          dataTable['output_type'] = 'display_data';\n",
              "          await google.colab.output.renderOutput(dataTable, element);\n",
              "          const docLink = document.createElement('div');\n",
              "          docLink.innerHTML = docLinkHtml;\n",
              "          element.appendChild(docLink);\n",
              "        }\n",
              "      </script>\n",
              "    </div>\n",
              "  </div>\n",
              "  "
            ]
          },
          "metadata": {},
          "execution_count": 66
        }
      ]
    },
    {
      "cell_type": "markdown",
      "source": [
        "### D. Create graphs"
      ],
      "metadata": {
        "id": "XIH188JxvI7Y"
      }
    },
    {
      "cell_type": "code",
      "source": [
        "# Create graphs\n",
        "plt.figure(figsize=(16, 6)) \n",
        "plt.subplot(1, 2, 1) # row 1, col 2 index 1\n",
        "\n",
        "# First graph\n",
        "group_label = 'Area'\n",
        "first_dim = 'LGD'\n",
        "second_dim = 'PD'\n",
        "title = f'PD vs LGD for \"Retail immovable property\", {snapshot_date}'\n",
        "\n",
        "createPlots(summary, group_label, first_dim, second_dim, title)\n",
        "\n",
        "plt.subplot(1, 2, 2) # row 1, col 2 index 1\n",
        "\n",
        "# First graph\n",
        "group_label = 'Area'\n",
        "first_dim = 'RWA'\n",
        "second_dim = 'EL'\n",
        "title = f'RWA vs EL for \"Retail immovable property, {snapshot_date}'\n",
        "\n",
        "createPlots(summary, group_label, first_dim, second_dim, title)\n",
        "\n",
        "plt.show()"
      ],
      "metadata": {
        "colab": {
          "base_uri": "https://localhost:8080/",
          "height": 437
        },
        "id": "XpvZQQwgqbsl",
        "outputId": "86d0b299-e28b-46ff-9c22-e03bbac4c0c4"
      },
      "execution_count": 67,
      "outputs": [
        {
          "output_type": "display_data",
          "data": {
            "text/plain": [
              "<Figure size 1152x432 with 2 Axes>"
            ],
            "image/png": "[encoded data removed]"
          },
          "metadata": {
            "needs_background": "light"
          }
        }
      ]
    }
  ]
}